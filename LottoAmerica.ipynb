{
 "cells": [
  {
   "cell_type": "code",
   "execution_count": null,
   "id": "6b6b1245-78ad-4ba7-ac47-1c1aa79f76ce",
   "metadata": {},
   "outputs": [],
   "source": [
    "import json\n",
    "import pandas as pd\n",
    "from collections import Counter\n",
    "import seaborn as sns\n",
    "import matplotlib.pyplot as plt"
   ]
  },
  {
   "cell_type": "code",
   "execution_count": null,
   "id": "5ed7aee8-320c-4b70-886d-0022206a1ef3",
   "metadata": {},
   "outputs": [],
   "source": [
    "f = open('lotto_america_winning_nums.json', 'r')\n",
    "data = json.load(f)"
   ]
  },
  {
   "cell_type": "code",
   "execution_count": null,
   "id": "abe02dc6-503c-4812-9c72-499d31d6c97b",
   "metadata": {},
   "outputs": [],
   "source": [
    "df = pd.DataFrame(data).transpose()\n",
    "df.head()"
   ]
  },
  {
   "cell_type": "code",
   "execution_count": null,
   "id": "7e8b4359-798e-4d5a-a56c-4c943271133d",
   "metadata": {},
   "outputs": [],
   "source": [
    "df2 = pd.DataFrame(df)\n",
    "ball_list = ['Ball 1', 'Ball 2', 'Ball 3', 'Ball 4', 'Ball 5']\n",
    "df2[ball_list] \\\n",
    "    = pd.DataFrame(df.main_numbers.tolist(), index = df2.index)\n",
    "df2 = df2.drop('main_numbers', axis=1)\n",
    "cols = []\n",
    "cols.extend(ball_list)\n",
    "cols.append('star_number')\n",
    "cols.append('multiplier')\n",
    "df2 = df2[cols]\n",
    "df2.rename(columns={'star_number': 'All Star Ball', 'multiplier' : 'Multiplier'}, inplace=True)\n",
    "df2.head()"
   ]
  },
  {
   "cell_type": "code",
   "execution_count": null,
   "id": "f79a2624-86ea-4990-88ef-872e9b394b86",
   "metadata": {},
   "outputs": [],
   "source": [
    "counts = df2[ball_list].values.flatten()\n",
    "ball_counts = pd.Series(counts).value_counts().reset_index()\n",
    "ball_counts.columns = ['Ball Number', 'Frequency']\n",
    "\n",
    "# Create a new column for hue to categorize as \"Ball Frequency\"\n",
    "ball_counts['Category'] = 'Ball Frequency'\n",
    "\n",
    "# Create the plot\n",
    "plt.figure(figsize=(13, 8))\n",
    "sns.barplot(data=ball_counts, x='Ball Number', y='Frequency', hue='Category', dodge=False, palette=\"viridis\")\n",
    "plt.title(\"Frequency of Ball Numbers\", fontsize=16)\n",
    "plt.xlabel(\"Ball Number\", fontsize=14)\n",
    "plt.ylabel(\"Frequency\", fontsize=14)\n",
    "plt.xticks(fontsize=12)\n",
    "plt.yticks(fontsize=12)\n",
    "plt.legend(title='Category', fontsize=12)\n",
    "plt.grid(axis='y', linestyle='--', alpha=0.7)\n",
    "plt.tight_layout()\n",
    "plt.show()"
   ]
  },
  {
   "cell_type": "code",
   "execution_count": null,
   "id": "83cce25c-b1a4-45bf-9252-eab5a47f2238",
   "metadata": {},
   "outputs": [],
   "source": [
    "counts = df2['All Star Ball'].values\n",
    "ball_counts = pd.Series(counts).value_counts().reset_index()\n",
    "ball_counts.columns = ['Ball Number', 'Frequency']\n",
    "\n",
    "# Create a new column for hue to categorize as \"Ball Frequency\"\n",
    "ball_counts['Category'] = 'Ball Frequency'\n",
    "\n",
    "# Create the plot\n",
    "plt.figure(figsize=(13, 8))\n",
    "sns.barplot(data=ball_counts, x='Ball Number', y='Frequency', hue='Category', dodge=False, palette=\"viridis\")\n",
    "plt.title(\"Frequency of All Star Ball Numbers\", fontsize=16)\n",
    "plt.xlabel(\"Ball Number\", fontsize=14)\n",
    "plt.ylabel(\"Frequency\", fontsize=14)\n",
    "plt.xticks(fontsize=12)\n",
    "plt.yticks(fontsize=12)\n",
    "plt.legend(title='Category', fontsize=12)\n",
    "plt.grid(axis='y', linestyle='--', alpha=0.7)\n",
    "plt.tight_layout()\n",
    "plt.show()"
   ]
  }
 ],
 "metadata": {
  "kernelspec": {
   "display_name": "Python 3 (ipykernel)",
   "language": "python",
   "name": "python3"
  },
  "language_info": {
   "codemirror_mode": {
    "name": "ipython",
    "version": 3
   },
   "file_extension": ".py",
   "mimetype": "text/x-python",
   "name": "python",
   "nbconvert_exporter": "python",
   "pygments_lexer": "ipython3",
   "version": "3.12.7"
  }
 },
 "nbformat": 4,
 "nbformat_minor": 5
}
