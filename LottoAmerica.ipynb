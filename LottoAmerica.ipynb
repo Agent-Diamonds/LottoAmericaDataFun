{
 "cells": [
  {
   "cell_type": "code",
   "execution_count": null,
   "id": "6b6b1245-78ad-4ba7-ac47-1c1aa79f76ce",
   "metadata": {},
   "outputs": [],
   "source": [
    "import json\n",
    "import pandas as pd\n",
    "from collections import Counter"
   ]
  },
  {
   "cell_type": "code",
   "execution_count": null,
   "id": "5ed7aee8-320c-4b70-886d-0022206a1ef3",
   "metadata": {},
   "outputs": [],
   "source": [
    "f = open('lotto_america_winning_nums.json', 'r')\n",
    "data = json.load(f)"
   ]
  },
  {
   "cell_type": "code",
   "execution_count": null,
   "id": "abe02dc6-503c-4812-9c72-499d31d6c97b",
   "metadata": {},
   "outputs": [],
   "source": [
    "df = pd.DataFrame(data).transpose()\n",
    "df.head()"
   ]
  },
  {
   "cell_type": "code",
   "execution_count": null,
   "id": "7e8b4359-798e-4d5a-a56c-4c943271133d",
   "metadata": {},
   "outputs": [],
   "source": [
    "df2 = pd.DataFrame(df)\n",
    "df2[['Ball 1', 'Ball 2', 'Ball 3', 'Ball 4', 'Ball 5']] = pd.DataFrame(df.main_numbers.tolist(), index = df2.index)\n",
    "df2 = df2.drop('main_numbers', axis=1)\n",
    "cols = ['Ball 1', 'Ball 2', 'Ball 3', 'Ball 4', 'Ball 5', 'star_number', 'multiplier']\n",
    "df2 = df2[cols]\n",
    "df2.head()"
   ]
  },
  {
   "cell_type": "code",
   "execution_count": null,
   "id": "f79a2624-86ea-4990-88ef-872e9b394b86",
   "metadata": {},
   "outputs": [],
   "source": []
  }
 ],
 "metadata": {
  "kernelspec": {
   "display_name": "Python 3 (ipykernel)",
   "language": "python",
   "name": "python3"
  },
  "language_info": {
   "codemirror_mode": {
    "name": "ipython",
    "version": 3
   },
   "file_extension": ".py",
   "mimetype": "text/x-python",
   "name": "python",
   "nbconvert_exporter": "python",
   "pygments_lexer": "ipython3",
   "version": "3.12.7"
  }
 },
 "nbformat": 4,
 "nbformat_minor": 5
}
